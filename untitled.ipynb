{
 "cells": [
  {
   "cell_type": "code",
   "execution_count": 4,
   "id": "ef15c758",
   "metadata": {},
   "outputs": [
    {
     "name": "stdout",
     "output_type": "stream",
     "text": [
      "Visiting: {'A'}, Current Node: A, Neighbor: B\n",
      "Visiting: {'B', 'A'}, Current Node: B, Neighbor: A\n",
      "Visiting: {'B', 'A'}, Current Node: B, Neighbor: D\n",
      "Visiting: {'D', 'B', 'A'}, Current Node: D, Neighbor: B\n",
      "Visiting: {'D', 'B', 'A'}, Current Node: B, Neighbor: E\n",
      "Visiting: {'D', 'E', 'B', 'A'}, Current Node: E, Neighbor: B\n",
      "Visiting: {'D', 'E', 'B', 'A'}, Current Node: E, Neighbor: F\n",
      "Visiting: {'F', 'D', 'E', 'A', 'B'}, Current Node: F, Neighbor: C\n",
      "Visiting: {'F', 'C', 'D', 'E', 'A', 'B'}, Current Node: C, Neighbor: A\n",
      "Visiting: {'F', 'C', 'D', 'E', 'A', 'B'}, Current Node: C, Neighbor: F\n",
      "Visiting: {'F', 'C', 'D', 'E', 'A', 'B'}, Current Node: F, Neighbor: E\n",
      "Visiting: {'F', 'C', 'D', 'E', 'A', 'B'}, Current Node: A, Neighbor: C\n"
     ]
    }
   ],
   "source": [
    "def dfs(graph, start, visited=None):\n",
    "    if visited is None:\n",
    "        visited = set()\n",
    "    visited.add(start)\n",
    "   \n",
    "    for neighbor in graph[start]:\n",
    "        print(f\"Visiting: {visited}, Current Node: {start}, Neighbor: {neighbor}\")\n",
    "        if neighbor not in visited:\n",
    "            dfs(graph, neighbor, visited)\n",
    "\n",
    "graph = {\n",
    "    'A': ['B', 'C'],\n",
    "    'B': ['A', 'D', 'E'],\n",
    "    'C': ['A', 'F'],\n",
    "    'D': ['B'],\n",
    "    'E': ['B', 'F'],\n",
    "    'F': ['C', 'E']\n",
    "}\n",
    "\n",
    "dfs(graph, 'A')"
   ]
  },
  {
   "cell_type": "code",
   "execution_count": null,
   "id": "d1e8d36c",
   "metadata": {},
   "outputs": [],
   "source": []
  }
 ],
 "metadata": {
  "kernelspec": {
   "display_name": "Python 3",
   "language": "python",
   "name": "python3"
  },
  "language_info": {
   "codemirror_mode": {
    "name": "ipython",
    "version": 3
   },
   "file_extension": ".py",
   "mimetype": "text/x-python",
   "name": "python",
   "nbconvert_exporter": "python",
   "pygments_lexer": "ipython3",
   "version": "3.12.6"
  }
 },
 "nbformat": 4,
 "nbformat_minor": 5
}
